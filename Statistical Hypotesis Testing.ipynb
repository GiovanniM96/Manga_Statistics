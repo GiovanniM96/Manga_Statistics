{
 "cells": [
  {
   "cell_type": "markdown",
   "id": "18a41cad-3f2a-4497-9437-cb95c58b9634",
   "metadata": {},
   "source": [
    "# Statistical Hypotesis Testing"
   ]
  },
  {
   "cell_type": "markdown",
   "id": "a0367143-e746-4851-8ca2-17a34b2f3058",
   "metadata": {},
   "source": [
    "## P-Value"
   ]
  },
  {
   "cell_type": "markdown",
   "id": "9db5024f-bd72-46b2-a7cb-6fc92c774498",
   "metadata": {},
   "source": [
    "upponiamo di voler verificare se l'altezza media dei maschi adulti in un determinato paese è uguale a 170 cm. Questa può essere formulata come un'ipotesi nulla H0: μ = 170 cm, dove μ è la media vera dell'altezza dei maschi adulti in quel paese. La nostra ipotesi alternativa sarà quindi H1: μ ≠ 170 cm."
   ]
  },
  {
   "cell_type": "code",
   "execution_count": 2,
   "id": "a2e68d6d-154f-49c9-9d5d-6432ec2809a7",
   "metadata": {},
   "outputs": [
    {
     "name": "stderr",
     "output_type": "stream",
     "text": [
      "/Users/giovanni/opt/anaconda3/lib/python3.9/site-packages/scipy/__init__.py:146: UserWarning: A NumPy version >=1.16.5 and <1.23.0 is required for this version of SciPy (detected version 1.23.5\n",
      "  warnings.warn(f\"A NumPy version >={np_minversion} and <{np_maxversion}\"\n"
     ]
    },
    {
     "name": "stdout",
     "output_type": "stream",
     "text": [
      "Reject H0: the mean is not equal to 170.\n"
     ]
    }
   ],
   "source": [
    "import numpy as np\n",
    "from scipy import stats\n",
    "\n",
    "# Dati sperimentali sulla altezza dei maschi adulti in un determinato paese\n",
    "heights = np.array([173, 168, 171, 178, 179, 170, 176, 177, 174, 179])\n",
    "\n",
    "# Calcolo la media e la deviazione standard dei dati sperimentali\n",
    "mean = np.mean(heights)\n",
    "std = np.std(heights)\n",
    "\n",
    "# Calcoliamo il t-test per verificare se la media dei dati sperimentali è uguale a 170\n",
    "t_stat, p_value = stats.ttest_1samp(heights, 170)\n",
    "\n",
    "# Stabiliamo il livello di significatività\n",
    "alpha = 0.05\n",
    "\n",
    "# Verifichiamo se il p-value è inferiore al livello di significatività\n",
    "if p_value < alpha:\n",
    "    print(\"Reject H0: the mean is not equal to 170.\")\n",
    "else:\n",
    "    print(\"Fail to reject H0: the mean is equal to 170.\")\n"
   ]
  },
  {
   "cell_type": "markdown",
   "id": "283584d7-f86e-4331-8587-613d9fd9d474",
   "metadata": {},
   "source": [
    "In questo caso, il p-value viene calcolato come la probabilità di ottenere un risultato almeno altrettanto estremo (considerando la deviazione standard) come quello osservato, se l'ipotesi nulla H0 fosse vera. Se il p-value è inferiore al livello di significatività (in questo caso 0,05), respingiamo l'ipotesi nulla e conclusiamo che la media non è uguale a 170 cm. Al contrario, se il p-value è maggiore o uguale al livello di significatività, non respingiamo l'ipotesi nulla e conclusiamo che la media è uguale a 170 cm."
   ]
  },
  {
   "cell_type": "code",
   "execution_count": null,
   "id": "12715c05-1952-4b2e-87fc-7b3096f14e1c",
   "metadata": {},
   "outputs": [],
   "source": []
  }
 ],
 "metadata": {
  "kernelspec": {
   "display_name": "Python 3 (ipykernel)",
   "language": "python",
   "name": "python3"
  },
  "language_info": {
   "codemirror_mode": {
    "name": "ipython",
    "version": 3
   },
   "file_extension": ".py",
   "mimetype": "text/x-python",
   "name": "python",
   "nbconvert_exporter": "python",
   "pygments_lexer": "ipython3",
   "version": "3.9.7"
  }
 },
 "nbformat": 4,
 "nbformat_minor": 5
}
